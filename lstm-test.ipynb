{
 "cells": [
  {
   "cell_type": "code",
   "execution_count": 1,
   "metadata": {},
   "outputs": [],
   "source": [
    "import torch\n",
    "import torch.nn as nn\n",
    "import torch.nn.functional as F\n",
    "from torchsummary import summary\n",
    "import torch.optim as optim\n",
    "from torch.utils.data import Dataset, DataLoader\n",
    "\n",
    "import os\n",
    "import pandas as pd\n",
    "import numpy as np\n",
    "import random\n",
    "from tqdm import tqdm\n",
    "from sklearn.metrics import accuracy_score\n",
    "\n",
    "from torchlars import LARS"
   ]
  },
  {
   "cell_type": "code",
   "execution_count": 2,
   "metadata": {},
   "outputs": [],
   "source": [
    "os.environ[\"CUDA_VISIBLE_DEVICES\"] = \"1, 2\""
   ]
  },
  {
   "cell_type": "code",
   "execution_count": 3,
   "metadata": {},
   "outputs": [
    {
     "name": "stdout",
     "output_type": "stream",
     "text": [
      "cuda:0\n"
     ]
    }
   ],
   "source": [
    "device = torch.device(\"cuda:0\" if torch.cuda.is_available() else \"cpu\")\n",
    "print(device)\n",
    "torch.cuda.set_device(device)"
   ]
  },
  {
   "cell_type": "code",
   "execution_count": 4,
   "metadata": {},
   "outputs": [],
   "source": [
    "from loss import *\n",
    "from utils import pro2idx, load_data, seq_dic\n",
    "import matplotlib.pyplot as plt\n",
    "\n",
    "from sklearn.model_selection import train_test_split\n",
    "from Bio import SeqIO"
   ]
  },
  {
   "cell_type": "code",
   "execution_count": 5,
   "metadata": {},
   "outputs": [],
   "source": [
    "max_seq_len = 700"
   ]
  },
  {
   "cell_type": "code",
   "execution_count": 6,
   "metadata": {},
   "outputs": [],
   "source": [
    "records = list(SeqIO.parse(\"../data/protein/pdb_seqres.txt\", \"fasta\"))\n",
    "\n",
    "proteins = [''.join((records[i].seq)) for i in range(len(records)) if len(records[i].seq) <= max_seq_len and len(records[i].seq) >= 100]\n",
    "\n",
    "train_pro, test_pro = train_test_split(proteins, test_size=0.2, random_state = 7)"
   ]
  },
  {
   "cell_type": "code",
   "execution_count": 7,
   "metadata": {},
   "outputs": [
    {
     "data": {
      "text/plain": [
       "305669"
      ]
     },
     "execution_count": 7,
     "metadata": {},
     "output_type": "execute_result"
    }
   ],
   "source": [
    "len(train_pro)"
   ]
  },
  {
   "cell_type": "code",
   "execution_count": null,
   "metadata": {},
   "outputs": [],
   "source": []
  },
  {
   "cell_type": "code",
   "execution_count": null,
   "metadata": {},
   "outputs": [],
   "source": []
  },
  {
   "cell_type": "code",
   "execution_count": 8,
   "metadata": {},
   "outputs": [
    {
     "name": "stdout",
     "output_type": "stream",
     "text": [
      "92.79% training proteins (453388) selected with length <= 700\n",
      "92.60% testing proteins (106763) selected with length <= 700\n"
     ]
    }
   ],
   "source": [
    "train_pro, test_pro = load_data(max_seq_len=700)"
   ]
  },
  {
   "cell_type": "code",
   "execution_count": null,
   "metadata": {},
   "outputs": [],
   "source": []
  },
  {
   "cell_type": "code",
   "execution_count": 8,
   "metadata": {},
   "outputs": [],
   "source": [
    "class ProteinGlobalDataset(Dataset):\n",
    "    \"\"\"Protein Adjacent views.\"\"\"\n",
    "\n",
    "    def __init__(self, proteins, with_label = False):\n",
    "        \"\"\"\n",
    "        Args:\n",
    "            proteins (list): list of proteins \n",
    "            csv_file (string): Path to the csv file with annotations.\n",
    "            root_dir (string): Directory with all the images.\n",
    "            transform (callable, optional): Optional transform to be applied\n",
    "                on a sample.\n",
    "        \"\"\"\n",
    "        self.proteins = proteins\n",
    "        self.with_label = with_label\n",
    "\n",
    "    def __len__(self):\n",
    "        return len(self.proteins)\n",
    "\n",
    "    def __getitem__(self, idx):\n",
    "        pro = self.proteins[idx]\n",
    "        \n",
    "        if not self.with_label:\n",
    "            r = random.uniform(0, 1)\n",
    "            if r <= 0.5:\n",
    "                \n",
    "                first_start = random.randint(0, len(pro) // 6)\n",
    "                first_end = random.randint(len(pro) // 6 * 5, len(pro))\n",
    "                x = pro[first_start:first_end+1]\n",
    "                \n",
    "                second_start = random.randint(first_start + 1, len(x) // 6 + first_start + 1)\n",
    "                second_end = random.randint(len(x) // 6 * 5 + first_start + 1, first_end - 1)\n",
    "                \n",
    "                assert first_start < first_end\n",
    "                assert second_start < second_end\n",
    "                assert first_start < second_start\n",
    "                assert first_end > second_end\n",
    "                \n",
    "                x_aug = pro[second_start:second_end+1]\n",
    "                x = pro2idx(x)\n",
    "                x_aug = pro2idx(x_aug)\n",
    "                return x, len(pro), x_aug, len(x_aug)\n",
    "                \n",
    "            else:\n",
    "                shred = random.randint(len(pro) // 6, len(pro) // 6 * 5)\n",
    "                first_start = random.randint(0, shred - 1)\n",
    "                first_end = random.randint(first_start + 1, shred)\n",
    "                second_start = random.randint(shred, len(pro) - 1)\n",
    "                second_end = random.randint(second_start + 1, len(pro))\n",
    "\n",
    "                x = pro[first_start:first_end+1]\n",
    "                x_aug = pro[second_start:second_end+1]\n",
    "                x = pro2idx(x)\n",
    "                x_aug = pro2idx(x_aug)\n",
    "                \n",
    "                assert first_start < first_end\n",
    "                assert second_start < second_end\n",
    "                assert first_start < second_start\n",
    "                assert first_end < second_end\n",
    "\n",
    "                return x, len(pro), x_aug, len(x_aug)\n",
    "            \n",
    "        else:\n",
    "            pass\n"
   ]
  },
  {
   "cell_type": "code",
   "execution_count": 9,
   "metadata": {},
   "outputs": [],
   "source": [
    "class Encoder(nn.Module):\n",
    "    def __init__(self):\n",
    "        super(Encoder, self).__init__()\n",
    "        self.embed = nn.Embedding(27, 128)\n",
    "        self.gru1 = nn.GRU(128, 96, 2, batch_first=True)\n",
    "        self.gru2 = nn.GRU(96, 96, 2, batch_first=True)\n",
    "        self.maxpool = nn.AdaptiveMaxPool1d(1)\n",
    "        \n",
    "\n",
    "    def forward(self, x, x_batch_len):\n",
    "        x = self.embed(x)\n",
    "        x = nn.utils.rnn.pack_padded_sequence(x, x_batch_len, batch_first=True, enforce_sorted=False)\n",
    "        \n",
    "        self.gru1.flatten_parameters()\n",
    "        x, h_n = self.gru1(x)\n",
    "        \n",
    "        self.gru2.flatten_parameters()\n",
    "        x, _ = self.gru2(x, h_n)\n",
    "        \n",
    "        \n",
    "        x, _ = torch.nn.utils.rnn.pad_packed_sequence(x, batch_first=True)\n",
    "        x = x.contiguous()\n",
    "        x.transpose_(1, 2)\n",
    "        \n",
    "        \n",
    "        x = self.maxpool(x)\n",
    "        x = torch.flatten(x, start_dim=1)\n",
    "        return x\n",
    "    \n",
    "class Projection(nn.Module):\n",
    "    def __init__(self):\n",
    "        super(Projection, self).__init__()\n",
    "        self.fc1 = nn.Linear(96, 32)\n",
    "\n",
    "    def forward(self, x):\n",
    "        x = F.relu(self.fc1(x))\n",
    "        return x\n",
    "    \n",
    "    \n",
    "class Contrastive(nn.Module):\n",
    "    def __init__(self, encoder, projection):\n",
    "        super(Contrastive, self).__init__()\n",
    "        self.encoder = encoder\n",
    "        self.projection = projection\n",
    "        \n",
    "    def forward(self, x, x_len, x_aug, x_aug_len):\n",
    "        u = self.projection(self.encoder(x, x_len))\n",
    "        v = self.projection(self.encoder(x_aug, x_aug_len))\n",
    "        return u, v"
   ]
  },
  {
   "cell_type": "code",
   "execution_count": 10,
   "metadata": {},
   "outputs": [
    {
     "name": "stdout",
     "output_type": "stream",
     "text": [
      "100000\n"
     ]
    }
   ],
   "source": [
    "params = {'batch_size': 1024,\n",
    "          'shuffle': True,\n",
    "          'num_workers': 6}\n",
    "max_epochs = 200\n",
    "\n",
    "training_set = ProteinGlobalDataset(train_pro[:100000])\n",
    "print(len(training_set))\n",
    "training_generator = DataLoader(training_set, **params)\n",
    "\n",
    "\n",
    "encoder = Encoder()\n",
    "projection = Projection()\n",
    "contrastive = Contrastive(encoder, projection)\n",
    "\n",
    "if torch.cuda.device_count() > 1:\n",
    "    encoder = nn.DataParallel(encoder, device_ids=[0, 1])\n",
    "    projection = nn.DataParallel(projection, device_ids=[0, 1])\n",
    "    contrastive = nn.DataParallel(contrastive, device_ids=[0, 1])\n",
    "\n",
    "encoder.to(device)\n",
    "projection.to(device)\n",
    "contrastive.to(device)\n",
    "\n",
    "\n",
    "# opt = optim.Adam(contrastive.parameters(), lr=0.001, betas=(0.9, 0.999))\n",
    "base_optimizer = optim.SGD(contrastive.parameters(), lr=0.01)\n",
    "opt = LARS(optimizer=base_optimizer, eps=1e-8, trust_coef=0.001)"
   ]
  },
  {
   "cell_type": "code",
   "execution_count": null,
   "metadata": {
    "scrolled": true
   },
   "outputs": [
    {
     "name": "stderr",
     "output_type": "stream",
     "text": [
      "\r",
      "  0%|          | 0/98 [00:00<?, ?it/s]"
     ]
    }
   ],
   "source": [
    "history = []\n",
    "for epoch in range(max_epochs):\n",
    "    train_loss = 0\n",
    "    \n",
    "    for x_batch, x_batch_len, x_aug_batch, x_aug_batch_len in tqdm(training_generator):\n",
    "        x_batch, x_batch_len = x_batch.to(device), x_batch_len.to(device)\n",
    "        x_aug_batch, x_aug_batch_len = x_aug_batch.to(device), x_aug_batch_len .to(device)\n",
    "        u, v = contrastive(x_batch, x_batch_len, x_aug_batch, x_aug_batch_len)\n",
    "\n",
    "        loss = cus_loss(u, v, 0.1)\n",
    "        loss.backward()\n",
    "        opt.step()\n",
    "\n",
    "        train_loss += loss.item()\n",
    "    history.append(train_loss) \n",
    "    print('Epoch {}: Average loss: {:.4f}\\n'.format(\n",
    "            epoch, train_loss))\n",
    "\n",
    "\n"
   ]
  },
  {
   "cell_type": "code",
   "execution_count": 12,
   "metadata": {},
   "outputs": [
    {
     "data": {
      "image/png": "[encoded data removed]",
      "text/plain": [
       "<Figure size 432x288 with 1 Axes>"
      ]
     },
     "metadata": {
      "needs_background": "light"
     },
     "output_type": "display_data"
    }
   ],
   "source": [
    "plt.plot(history)\n",
    "plt.show()"
   ]
  },
  {
   "cell_type": "code",
   "execution_count": 14,
   "metadata": {},
   "outputs": [],
   "source": [
    "torch.save(encoder.state_dict(), \"models/gru_encoder.pt\")\n",
    "torch.save(projection.state_dict(), \"models/gru_projection.pt\")"
   ]
  },
  {
   "cell_type": "code",
   "execution_count": null,
   "metadata": {},
   "outputs": [],
   "source": []
  },
  {
   "cell_type": "code",
   "execution_count": null,
   "metadata": {},
   "outputs": [],
   "source": []
  },
  {
   "cell_type": "code",
   "execution_count": null,
   "metadata": {},
   "outputs": [],
   "source": []
  },
  {
   "cell_type": "code",
   "execution_count": 134,
   "metadata": {
    "scrolled": true
   },
   "outputs": [
    {
     "data": {
      "text/plain": [
       "torch.Size([16, 96])"
      ]
     },
     "execution_count": 134,
     "metadata": {},
     "output_type": "execute_result"
    }
   ],
   "source": [
    "Encoder()(x_batch, x_batch_len).shape"
   ]
  },
  {
   "cell_type": "code",
   "execution_count": 126,
   "metadata": {},
   "outputs": [
    {
     "data": {
      "text/plain": [
       "torch.Size([16, 700, 128])"
      ]
     },
     "execution_count": 126,
     "metadata": {},
     "output_type": "execute_result"
    }
   ],
   "source": [
    "embed = nn.Embedding(27, 128)\n",
    "x = embed(x_batch)\n",
    "x.shape"
   ]
  },
  {
   "cell_type": "code",
   "execution_count": 127,
   "metadata": {},
   "outputs": [
    {
     "data": {
      "text/plain": [
       "torch.Size([16, 96, 444])"
      ]
     },
     "execution_count": 127,
     "metadata": {},
     "output_type": "execute_result"
    }
   ],
   "source": [
    "gru1 = nn.GRU(128, 96, 2, batch_first=True)\n",
    "gru2 = nn.GRU(96, 96, 2, batch_first=True)\n",
    "x = nn.utils.rnn.pack_padded_sequence(x, x_batch_len, batch_first=True, enforce_sorted=False)\n",
    "\n",
    "x, h_n = gru1(x)\n",
    "x, _ = gru2(x, h_n)\n",
    "\n",
    "x, _ = torch.nn.utils.rnn.pad_packed_sequence(x, batch_first=True)\n",
    "x = x.contiguous()\n",
    "x.transpose_(1, 2)\n",
    "x.shape"
   ]
  },
  {
   "cell_type": "code",
   "execution_count": 124,
   "metadata": {},
   "outputs": [
    {
     "data": {
      "text/plain": [
       "torch.Size([16, 96, 1])"
      ]
     },
     "execution_count": 124,
     "metadata": {},
     "output_type": "execute_result"
    }
   ],
   "source": [
    "maxpool = nn.AdaptiveMaxPool1d(1)\n",
    "result = maxpool(result)\n",
    "result.shape"
   ]
  },
  {
   "cell_type": "code",
   "execution_count": 110,
   "metadata": {},
   "outputs": [
    {
     "data": {
      "text/plain": [
       "torch.Size([16, 96])"
      ]
     },
     "execution_count": 110,
     "metadata": {},
     "output_type": "execute_result"
    }
   ],
   "source": [
    "result = torch.flatten(result, start_dim=1)\n",
    "result.shape"
   ]
  },
  {
   "cell_type": "code",
   "execution_count": null,
   "metadata": {},
   "outputs": [],
   "source": []
  }
 ],
 "metadata": {
  "kernelspec": {
   "display_name": "Python [conda env:dl] *",
   "language": "python",
   "name": "conda-env-dl-py"
  },
  "language_info": {
   "codemirror_mode": {
    "name": "ipython",
    "version": 3
   },
   "file_extension": ".py",
   "mimetype": "text/x-python",
   "name": "python",
   "nbconvert_exporter": "python",
   "pygments_lexer": "ipython3",
   "version": "3.7.6"
  }
 },
 "nbformat": 4,
 "nbformat_minor": 4
}
